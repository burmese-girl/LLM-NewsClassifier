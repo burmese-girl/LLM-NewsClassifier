{
 "cells": [
  {
   "cell_type": "code",
   "execution_count": 44,
   "id": "e4c9e55e-a544-43c1-b7c0-31accbc3883d",
   "metadata": {},
   "outputs": [
    {
     "name": "stdout",
     "output_type": "stream",
     "text": [
      "Max Length : 20\n",
      "longest zip [('Dubai', 'Dubai International Airport (DXB)', 'Jumeirah Beach', 'Emaar Properties'), ('Abu Dhabi', 'Al Maktoum International Airport (DWC)', 'Kite Beach', 'Damac Properties'), ('Sharjah', 'Abu Dhabi International Airport (AUH)', 'La Mer Beach', 'Nakheel'), ('Al Ain', 'Sharjah International Airport (SHJ)', 'Al Mamzar Beach Park', 'Dubai Properties'), ('Umm Al Quwain', 'Ras Al Khaimah International Airport (RKT)', 'The Beach at JBR', 'Meraas'), ('Ras Al Khaimah', 'Fujairah International Airport (FJR)', 'Saadiyat Public Beach', 'Sobha Realty'), ('Fujairah', 'Al Ain International Airport (AAN)', 'Corniche Beach', 'Azizi Developments'), ('', 'Zayed International Airport (New Abu Dhabi Airport)', 'Al Khan Beach', 'Danube Properties'), ('', '', 'Ajman Beach', 'Ellington Properties'), ('', '', 'Umm Al Quwain Beach', 'MAG Property Development'), ('', '', 'Ras Al Khaimah Beach', 'Select Group'), ('', '', 'Al Zorah Beach', 'Binghatti Developers'), ('', '', 'Ghantoot Beach', 'Omniyat'), ('', '', 'Sheraton Jumeirah Beach', 'Union Properties'), ('', '', 'White Beach (Atlantis)', 'Sharjah Investment and Development Authority (Shurooq)'), ('', '', '', 'Bloom Properties'), ('', '', '', 'Aldar Properties'), ('', '', '', 'Tiger Properties'), ('', '', '', 'Wasl Properties'), ('', '', '', 'DMCC (Dubai Multi Commodities Centre)')]\n"
     ]
    },
    {
     "name": "stderr",
     "output_type": "stream",
     "text": [
      "Processing ..... :   0%|\u001b[34m                                                          \u001b[0m| 0/20 [00:00<?, ?it/s]\u001b[0m"
     ]
    },
    {
     "name": "stdout",
     "output_type": "stream",
     "text": [
      "\n",
      "Final DataFrame for UAE :\n",
      "\n",
      "\u001b[1m Count      City                 Airport                                                 Beach                          Property Developer  \u001b[0m \n",
      "\n"
     ]
    },
    {
     "name": "stderr",
     "output_type": "stream",
     "text": [
      "\n"
     ]
    }
   ],
   "source": [
    "import tqdm\n",
    "from tqdm import trange\n",
    "from time import sleep\n",
    "import pandas as pd\n",
    "from tqdm import tqdm\n",
    "from itertools import zip_longest\n",
    "\n",
    "text = \"\"\n",
    "city_list = [\"Dubai\",\"Abu Dhabi\", \"Sharjah\", \"Al Ain\", \"Umm Al Quwain\", \"Ras Al Khaimah\", \"Fujairah\"]\n",
    "airport_list = [\"Dubai International Airport (DXB)\", \"Al Maktoum International Airport (DWC)\", \"Abu Dhabi International Airport (AUH)\", \"Sharjah International Airport (SHJ)\", \"Ras Al Khaimah International Airport (RKT)\", \"Fujairah International Airport (FJR)\", \"Al Ain International Airport (AAN)\", \"Zayed International Airport (New Abu Dhabi Airport)\"]\n",
    "beach_list = [\"Jumeirah Beach\", \"Kite Beach\", \"La Mer Beach\", \"Al Mamzar Beach Park\", \"The Beach at JBR\", \"Saadiyat Public Beach\", \"Corniche Beach\", \"Al Khan Beach\", \"Ajman Beach\", \"Umm Al Quwain Beach\", \"Ras Al Khaimah Beach\", \"Al Zorah Beach\", \"Ghantoot Beach\", \"Sheraton Jumeirah Beach\", \"White Beach (Atlantis)\"]\n",
    "property_list = [\"Emaar Properties\", \"Damac Properties\", \"Nakheel\", \"Dubai Properties\", \"Meraas\", \"Sobha Realty\", \"Azizi Developments\", \"Danube Properties\", \"Ellington Properties\", \"MAG Property Development\", \"Select Group\", \"Binghatti Developers\", \"Omniyat\", \"Union Properties\", \"Sharjah Investment and Development Authority (Shurooq)\", \"Bloom Properties\", \"Aldar Properties\", \"Tiger Properties\", \"Wasl Properties\", \"DMCC (Dubai Multi Commodities Centre)\"]\n",
    "longest_data=zip_longest(city_list, airport_list, beach_list, property_list, fillvalue=\"\")\n",
    "df_test= pd.DataFrame(columns=['City','Airport','Beach','Property Developer'])\n",
    "print( \"Max Length : \"+str(max(len(city_list), len(airport_list), len(beach_list), len(property_list))))\n",
    "\n",
    "\n",
    "print(\"longest zip\", list(longest_data))\n",
    "# for item in list(longest_data):\n",
    "#     print(item)\n",
    "\n",
    "for city, airport,beach,prop in tqdm(longest_data, total=max(len(city_list), len(airport_list), len(beach_list), len(property_list)) ,desc=\"Processing ..... \",colour=\"blue\"):\n",
    "    sleep(0.28)\n",
    "    text = text + prop + \", \"\n",
    "    df_test = pd.concat([df_test,pd.DataFrame({\"City\":[city] , \"Airport\":[airport] , \"Beach\":[beach], 'Property Developer':[prop] })], ignore_index=True )\n",
    "    # print(text)\n",
    "\n",
    "\n",
    "print(\"\\nFinal DataFrame for UAE :\\n\")\n",
    "bold_start = \"\\033[1m\"\n",
    "bold_end = \"\\033[0m\"\n",
    "print(f\"{bold_start} {'Count':<10} {'City': <20} {'Airport':<55} {'Beach':30} {'Property Developer'}  {bold_end} \\n\")\n",
    "\n",
    "for idx,row in df_test.iterrows():\n",
    "    print(f\" {idx+1:<10} {row['City'] or '' :<20} {row['Airport'] or '' :<55}  {row['Beach'] or '' :30} {row['Property Developer']}\")\n"
   ]
  },
  {
   "cell_type": "code",
   "execution_count": 27,
   "id": "e153cc28-bb95-4d9c-9027-7577c83e3423",
   "metadata": {},
   "outputs": [
    {
     "name": "stdout",
     "output_type": "stream",
     "text": [
      "Length : 15\n"
     ]
    },
    {
     "name": "stderr",
     "output_type": "stream",
     "text": [
      "Processing in % ....: 100%|\u001b[32m██████████████████████████████████████████████\u001b[0m| 15/15 [00:04<00:00,  3.55it/s]\u001b[0m"
     ]
    },
    {
     "name": "stdout",
     "output_type": "stream",
     "text": [
      "\n",
      "Final Beach DataFrame:\n",
      "\n",
      "\u001b[1mIndex      Beach \u001b[0m\n",
      "1          Jumeirah Beach\n",
      "2          Kite Beach\n",
      "3          La Mer Beach\n",
      "4          Al Mamzar Beach Park\n",
      "5          The Beach at JBR\n",
      "6          Saadiyat Public Beach\n",
      "7          Corniche Beach\n",
      "8          Al Khan Beach\n",
      "9          Ajman Beach\n",
      "10         Umm Al Quwain Beach\n",
      "11         Ras Al Khaimah Beach\n",
      "12         Al Zorah Beach\n",
      "13         Ghantoot Beach\n",
      "14         Sheraton Jumeirah Beach\n",
      "15         White Beach (Atlantis)\n"
     ]
    },
    {
     "name": "stderr",
     "output_type": "stream",
     "text": [
      "\n"
     ]
    }
   ],
   "source": [
    "beach_list = [\"Jumeirah Beach\", \"Kite Beach\", \"La Mer Beach\", \"Al Mamzar Beach Park\", \"The Beach at JBR\", \"Saadiyat Public Beach\", \"Corniche Beach\", \"Al Khan Beach\", \"Ajman Beach\", \"Umm Al Quwain Beach\", \"Ras Al Khaimah Beach\", \"Al Zorah Beach\", \"Ghantoot Beach\", \"Sheraton Jumeirah Beach\", \"White Beach (Atlantis)\"]\n",
    "beach_text=''\n",
    "df_beach = pd.DataFrame(columns=['Beach'])\n",
    "print( \"Length : \"+str(len(beach_list)))\n",
    "for char in tqdm(beach_list,total=len(beach_list),desc=\"Processing in % ....\",colour=\"green\"):\n",
    "    sleep(0.28)\n",
    "    beach_text = beach_text + char + \", \"\n",
    "    # print(beach_text)\n",
    "\n",
    "    df_beach = pd.concat([df_beach,pd.DataFrame({'Beach' :[char] })], ignore_index = True )\n",
    "\n",
    "print(\"\\nFinal Beach DataFrame:\\n\")\n",
    "bold_start = \"\\033[1m\"\n",
    "bold_end = \"\\033[0m\"\n",
    "print(f\"{bold_start}{'Index':<10} {'Beach'} {bold_end}\")\n",
    "\n",
    "for idx,row in df_beach.iterrows():\n",
    "    print(f\"{idx+1:<10} {row['Beach']}\")\n",
    "     "
   ]
  },
  {
   "cell_type": "code",
   "execution_count": null,
   "id": "488ff84e-8dc5-49b2-9de5-1fcb05322d07",
   "metadata": {},
   "outputs": [],
   "source": []
  }
 ],
 "metadata": {
  "kernelspec": {
   "display_name": "Python 3 (ipykernel)",
   "language": "python",
   "name": "python3"
  },
  "language_info": {
   "codemirror_mode": {
    "name": "ipython",
    "version": 3
   },
   "file_extension": ".py",
   "mimetype": "text/x-python",
   "name": "python",
   "nbconvert_exporter": "python",
   "pygments_lexer": "ipython3",
   "version": "3.10.12"
  }
 },
 "nbformat": 4,
 "nbformat_minor": 5
}
