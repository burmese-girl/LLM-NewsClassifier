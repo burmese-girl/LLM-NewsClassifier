{
 "cells": [
  {
   "cell_type": "code",
   "execution_count": null,
   "id": "b4e72e32-6def-4b27-af49-904ba5d3b2e5",
   "metadata": {
    "scrolled": true
   },
   "outputs": [
    {
     "name": "stdout",
     "output_type": "stream",
     "text": [
      "                                                    TITLE CATEGORY\n",
      "0       Fed official says weak data caused by weather,...        b\n",
      "1       Fed's Charles Plosser sees high bar for change...        b\n",
      "2       US open: Stocks fall after Fed official hints ...        b\n",
      "3       Fed risks falling 'behind the curve', Charles ...        b\n",
      "4       Fed's Plosser: Nasty Weather Has Curbed Job Gr...        b\n",
      "...                                                   ...      ...\n",
      "422414  Surgeons to remove 4-year-old's rib to rebuild...        m\n",
      "422415  Boy to have surgery on esophagus after battery...        m\n",
      "422416  Child who swallowed battery to have reconstruc...        m\n",
      "422417  Phoenix boy undergoes surgery to repair throat...        m\n",
      "422418  Phoenix boy undergoes surgery to repair throat...        m\n",
      "\n",
      "[422419 rows x 2 columns]\n"
     ]
    }
   ],
   "source": [
    "import torch\n",
    "import numpy as np\n",
    "from torch.utils.data import DataLoader, Dataset\n",
    "from transformers import DistilBertTokenizer, DistilBertModel\n",
    "from tqdm import tqdm\n",
    "#import agrparse\n",
    "import os\n",
    "import pandas as pd\n",
    "\n",
    "\n",
    "\n",
    "#s3_path = 'https://testing-may-uci-dataset.s3.us-east-1.amazonaws.com/newsCorpora.csv'\n",
    "s3_path = '/home/mayyi/Downloads/news+aggregator/newsCorpora.csv'\n",
    "df = pd.read_csv(s3_path, sep='\\t',names=['ID', 'TITLE', 'URL', 'PUBLISHER', 'CATEGORY', 'STORY', 'HOSTNAME', 'TIMESTAMP'])\n",
    "df = df[['TITLE', 'CATEGORY']]\n",
    "print(df)\n"
   ]
  },
  {
   "cell_type": "code",
   "execution_count": null,
   "id": "8cc55622-73e3-4c95-b8cc-025165e0c5e5",
   "metadata": {},
   "outputs": [
    {
     "name": "stdout",
     "output_type": "stream",
     "text": [
      "                                                    TITLE  CATEGORY\n",
      "0       Fed official says weak data caused by weather,...  Business\n",
      "1       Fed's Charles Plosser sees high bar for change...  Business\n",
      "2       US open: Stocks fall after Fed official hints ...  Business\n",
      "3       Fed risks falling 'behind the curve', Charles ...  Business\n",
      "4       Fed's Plosser: Nasty Weather Has Curbed Job Gr...  Business\n",
      "...                                                   ...       ...\n",
      "422414  Surgeons to remove 4-year-old's rib to rebuild...    Health\n",
      "422415  Boy to have surgery on esophagus after battery...    Health\n",
      "422416  Child who swallowed battery to have reconstruc...    Health\n",
      "422417  Phoenix boy undergoes surgery to repair throat...    Health\n",
      "422418  Phoenix boy undergoes surgery to repair throat...    Health\n",
      "\n",
      "[422419 rows x 2 columns]\n"
     ]
    }
   ],
   "source": [
    "my_dict = {\n",
    "    'e':'Entertainment',\n",
    "    'b':'Business',\n",
    "    't':'Science',\n",
    "    'm':'Health'\n",
    "          }\n",
    "\n",
    "def update_categ(x):\n",
    "    return my_dict[x]\n",
    "\n",
    "df['CATEGORY'] = df['CATEGORY'].apply(lambda x: update_categ(x))\n",
    "\n",
    "print(df)"
   ]
  },
  {
   "cell_type": "code",
   "execution_count": 15,
   "id": "9298022b-687e-4602-a0a0-65d2a5e18e5f",
   "metadata": {},
   "outputs": [
    {
     "name": "stdout",
     "output_type": "stream",
     "text": [
      "                                               TITLE       CATEGORY\n",
      "0  N.C. Senate wants to tighten proposed coal ash...       Business\n",
      "1  Texas Tech Cheerleader Kendall Jones Is Big Ga...  Entertainment\n",
      "2  Thinner screen, tougher requirements? Why Appl...        Science\n"
     ]
    }
   ],
   "source": [
    "df = df.sample(frac=0.05,random_state=1)\n",
    "df = df.reset_index(drop=True)\n",
    "print(df)"
   ]
  },
  {
   "cell_type": "code",
   "execution_count": 16,
   "id": "22c5f52e-f7ab-4bb9-9c86-0b1175cf8043",
   "metadata": {},
   "outputs": [
    {
     "name": "stdout",
     "output_type": "stream",
     "text": [
      "                                               TITLE       CATEGORY  \\\n",
      "0  N.C. Senate wants to tighten proposed coal ash...       Business   \n",
      "1  Texas Tech Cheerleader Kendall Jones Is Big Ga...  Entertainment   \n",
      "2  Thinner screen, tougher requirements? Why Appl...        Science   \n",
      "\n",
      "   ENCODE_CAT  \n",
      "0           0  \n",
      "1           1  \n",
      "2           2  \n"
     ]
    }
   ],
   "source": [
    "\n",
    "encode_dict = {}\n",
    "\n",
    "\n",
    "\n",
    "def encode_cat(x):\n",
    "    if x not in encode_dict.keys():\n",
    "        encode_dict[x]=len(encode_dict)\n",
    "    return encode_dict[x]\n",
    "\n",
    "df['ENCODE_CAT']= df['CATEGORY'].apply(lambda x:encode_cat(x))\n",
    "\n",
    "# resets the index of a Dataframe, which mens it creatse a new range index starting from 0 to len(df)-1, old indexes are dropped\n",
    "df = df.reset_index(drop=True)\n",
    "\n",
    "print(df)"
   ]
  },
  {
   "cell_type": "code",
   "execution_count": null,
   "id": "0c0cd89e-fc01-4b20-9a25-8209b0a9df59",
   "metadata": {},
   "outputs": [],
   "source": []
  }
 ],
 "metadata": {
  "kernelspec": {
   "display_name": "Python 3 (ipykernel)",
   "language": "python",
   "name": "python3"
  },
  "language_info": {
   "codemirror_mode": {
    "name": "ipython",
    "version": 3
   },
   "file_extension": ".py",
   "mimetype": "text/x-python",
   "name": "python",
   "nbconvert_exporter": "python",
   "pygments_lexer": "ipython3",
   "version": "3.10.12"
  }
 },
 "nbformat": 4,
 "nbformat_minor": 5
}
